{
 "cells": [
  {
   "cell_type": "markdown",
   "metadata": {},
   "source": [
    "Generate any networks you like with NetworkX and try out the Multilayer Simulation!"
   ]
  },
  {
   "cell_type": "code",
   "execution_count": 3,
   "metadata": {},
   "outputs": [],
   "source": [
    "from repast4py.network import write_network\n",
    "import network \n",
    "import networkx as nx"
   ]
  },
  {
   "cell_type": "code",
   "execution_count": null,
   "metadata": {},
   "outputs": [],
   "source": []
  },
  {
   "cell_type": "code",
   "execution_count": 7,
   "metadata": {},
   "outputs": [],
   "source": [
    "import os\n",
    "\n",
    "num_agents = 5000\n",
    "p = 0.3\n",
    "rank = 1\n",
    "\n",
    "# Create networks directory if it doesn't exist\n",
    "os.makedirs('networks', exist_ok=True)\n",
    "\n",
    "paths = ['networks/layer1.txt', 'networks/layer2.txt', 'networks/layer3.txt']"
   ]
  },
  {
   "cell_type": "code",
   "execution_count": 8,
   "metadata": {},
   "outputs": [],
   "source": [
    "for path in paths:\n",
    "    G = nx.erdos_renyi_graph(n=num_agents, p=p) # random graph\n",
    "    write_network(G, 'rumor_network', path, rank)\n"
   ]
  }
 ],
 "metadata": {
  "kernelspec": {
   "display_name": "venv",
   "language": "python",
   "name": "python3"
  },
  "language_info": {
   "codemirror_mode": {
    "name": "ipython",
    "version": 3
   },
   "file_extension": ".py",
   "mimetype": "text/x-python",
   "name": "python",
   "nbconvert_exporter": "python",
   "pygments_lexer": "ipython3",
   "version": "3.9.6"
  }
 },
 "nbformat": 4,
 "nbformat_minor": 2
}
